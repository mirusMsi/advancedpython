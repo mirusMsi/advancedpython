{
 "cells": [
  {
   "cell_type": "code",
   "execution_count": 7,
   "metadata": {},
   "outputs": [
    {
     "name": "stdout",
     "output_type": "stream",
     "text": [
      "[b'\\xd1\\x80\\xd0\\xb0\\xd0\\xb7\\xd1\\x80\\xd0\\xb0\\xd0\\xb1\\xd0\\xbe\\xd1\\x82\\xd0\\xba\\xd0\\xb0', b'\\xd1\\x81\\xd0\\xbe\\xd0\\xba\\xd0\\xb5\\xd1\\x82', b'\\xd0\\xb4\\xd0\\xb5\\xd0\\xba\\xd0\\xbe\\xd1\\x80\\xd0\\xb0\\xd1\\x82\\xd0\\xbe\\xd1\\x80']\n"
     ]
    }
   ],
   "source": [
    "import chardet\n",
    "\n",
    "baseObject = [\"разработка\", \"сокет\", \"декоратор\"]\n",
    "byteObject = []\n",
    "\n",
    "for i in baseObject:\n",
    "    byteObject.append(i.encode(\"utf-8\"))\n",
    "\n",
    "print(byteObject)"
   ]
  },
  {
   "cell_type": "code",
   "execution_count": 8,
   "metadata": {},
   "outputs": [
    {
     "name": "stdout",
     "output_type": "stream",
     "text": [
      "['разработка', 'сокет', 'декоратор']\n"
     ]
    }
   ],
   "source": [
    "strObject = []\n",
    "\n",
    "codeType = chardet.detect()\n",
    "\n",
    "for i in byteObject:\n",
    "    codeType = chardet.detect()\n",
    "    strObject.append(i.decode(\"utf-8\"))\n",
    "\n",
    "print(strObject)"
   ]
  },
  {
   "cell_type": "code",
   "execution_count": null,
   "metadata": {},
   "outputs": [],
   "source": [
    "byteObject.clear()\n",
    "\n",
    "for i in baseObject:\n",
    "    byteObject.append(i.encode(\"utf-8\"))\n",
    "\n",
    "print(byteObject)"
   ]
  }
 ],
 "metadata": {
  "kernelspec": {
   "display_name": "Python 3",
   "language": "python",
   "name": "python3"
  },
  "language_info": {
   "codemirror_mode": {
    "name": "ipython",
    "version": 3
   },
   "file_extension": ".py",
   "mimetype": "text/x-python",
   "name": "python",
   "nbconvert_exporter": "python",
   "pygments_lexer": "ipython3",
   "version": "3.7.4"
  }
 },
 "nbformat": 4,
 "nbformat_minor": 2
}
