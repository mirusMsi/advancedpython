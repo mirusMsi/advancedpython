{
 "cells": [
  {
   "cell_type": "code",
   "execution_count": 10,
   "metadata": {},
   "outputs": [
    {
     "name": "stdout",
     "output_type": "stream",
     "text": [
      "hellow world!\n",
      "\n",
      "some data\n",
      "\n",
      "simple string\n"
     ]
    }
   ],
   "source": [
    "file = open(\"data/read.txt\")\n",
    "\n",
    "for i in range(3):\n",
    "    print(file.readline())\n",
    "\n",
    "file.close()"
   ]
  },
  {
   "cell_type": "code",
   "execution_count": 11,
   "metadata": {},
   "outputs": [
    {
     "name": "stdout",
     "output_type": "stream",
     "text": [
      "['hello world!\\n', 'some data\\n']\n",
      "['simple string\\n', 'flat text\\n', 'beep book beer\\n']\n",
      "['\\n', 'hello world!\\n', 'some data\\n', 'simple string\\n', 'flat text\\n', 'beep book beer']\n"
     ]
    }
   ],
   "source": [
    "file = open(\"data/read.txt\")\n",
    "\n",
    "print(file.readlines(16))\n",
    "print(file.readlines(32))\n",
    "print(file.readlines(64))\n",
    "\n",
    "file.close()"
   ]
  },
  {
   "cell_type": "code",
   "execution_count": 12,
   "metadata": {},
   "outputs": [
    {
     "name": "stdout",
     "output_type": "stream",
     "text": [
      "hello world!\n",
      "some data\n",
      "simple string\n",
      "flat text\n",
      "beep book beer\n",
      "\n",
      "hello world!\n",
      "some data\n",
      "simple string\n",
      "flat text\n",
      "beep book beer\n"
     ]
    }
   ],
   "source": [
    "file = open(\"data/read.txt\")\n",
    "\n",
    "print(file.read())\n",
    "\n",
    "file.close()"
   ]
  },
  {
   "cell_type": "code",
   "execution_count": 13,
   "metadata": {},
   "outputs": [
    {
     "name": "stdout",
     "output_type": "stream",
     "text": [
      "hello world!\n",
      "\n",
      "some data\n",
      "\n",
      "simple string\n",
      "\n",
      "flat text\n",
      "\n",
      "beep book beer\n",
      "\n",
      "\n",
      "\n",
      "hello world!\n",
      "\n",
      "some data\n",
      "\n",
      "simple string\n",
      "\n",
      "flat text\n",
      "\n",
      "beep book beer\n"
     ]
    }
   ],
   "source": [
    "with open(\"data/read.txt\") as file:\n",
    "    for row in file:\n",
    "        print(row)"
   ]
  },
  {
   "cell_type": "code",
   "execution_count": 15,
   "metadata": {},
   "outputs": [
    {
     "name": "stdout",
     "output_type": "stream",
     "text": [
      "9\n"
     ]
    }
   ],
   "source": [
    "with open(\"data/write.txt\", \"w\") as file:\n",
    "    file.write(\"Some data\")"
   ]
  },
  {
   "cell_type": "code",
   "execution_count": 20,
   "metadata": {},
   "outputs": [
    {
     "name": "stdout",
     "output_type": "stream",
     "text": [
      "13\n"
     ]
    }
   ],
   "source": [
    "with open(\"data/write.txt\", \"a\") as file:\n",
    "    file.write(\"\\nHello world\\n\")"
   ]
  },
  {
   "cell_type": "code",
   "execution_count": 21,
   "metadata": {},
   "outputs": [
    {
     "name": "stdout",
     "output_type": "stream",
     "text": [
      "None\n"
     ]
    }
   ],
   "source": [
    "with open(\"data/write.txt\", \"a\") as file:\n",
    "    file.writelines([\"some another text\\n\", \"flat text\\n\"])"
   ]
  },
  {
   "cell_type": "code",
   "execution_count": 22,
   "metadata": {},
   "outputs": [
    {
     "name": "stdout",
     "output_type": "stream",
     "text": [
      "b'hello world!\\r\\nsome data\\r\\nsimple string\\r\\nflat text\\r\\nbeep book beer\\r\\n\\r\\nhello world!\\r\\nsome data\\r\\nsimple string\\r\\nflat text\\r\\nbeep book beer'\n"
     ]
    }
   ],
   "source": [
    "with open(\"data/read.txt\", \"rb\") as file:\n",
    "    print(file.read())"
   ]
  },
  {
   "cell_type": "code",
   "execution_count": 23,
   "metadata": {},
   "outputs": [],
   "source": [
    "with open(\"data/write.txt\", \"wb\") as file:\n",
    "    file.write(b'\\nByte data')"
   ]
  },
  {
   "cell_type": "code",
   "execution_count": 25,
   "metadata": {},
   "outputs": [
    {
     "name": "stdout",
     "output_type": "stream",
     "text": [
      "hello world!\n",
      "some data\n",
      "simple string\n",
      "flat text\n",
      "beep book beer\n",
      "\n",
      "hello world!\n",
      "some data\n",
      "simple string\n",
      "flat text\n",
      "beep book beer\n"
     ]
    }
   ],
   "source": [
    "with open(\"data/read.txt\", encoding = \"utf-8\") as file:\n",
    "    print(file.read())"
   ]
  },
  {
   "cell_type": "code",
   "execution_count": 27,
   "metadata": {},
   "outputs": [
    {
     "name": "stdout",
     "output_type": "stream",
     "text": [
      "\n",
      "Byte data\n",
      "\n",
      "\n",
      "Byte data\n",
      "some another text\n",
      "flat text\n",
      "\n"
     ]
    }
   ],
   "source": [
    "with open(\"data/write.txt\", \"r+\") as file:\n",
    "    print(file.read())\n",
    "    file.writelines([\"some another text\\n\", \"flat text\\n\"])\n",
    "    file.seek(0)\n",
    "    print(file.read())"
   ]
  }
 ],
 "metadata": {
  "kernelspec": {
   "display_name": "Python 3",
   "language": "python",
   "name": "python3"
  },
  "language_info": {
   "codemirror_mode": {
    "name": "ipython",
    "version": 3
   },
   "file_extension": ".py",
   "mimetype": "text/x-python",
   "name": "python",
   "nbconvert_exporter": "python",
   "pygments_lexer": "ipython3",
   "version": "3.7.2"
  }
 },
 "nbformat": 4,
 "nbformat_minor": 2
}
